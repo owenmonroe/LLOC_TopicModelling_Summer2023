{
 "cells": [
  {
   "attachments": {},
   "cell_type": "markdown",
   "metadata": {},
   "source": [
    "### Topic Modeling Using Mallet"
   ]
  },
  {
   "cell_type": "code",
   "execution_count": null,
   "metadata": {},
   "outputs": [],
   "source": [
    "path_to_mallet = '/Users/owenmonroe/Desktop/mallet-2.0.8/bin/mallet'"
   ]
  },
  {
   "cell_type": "code",
   "execution_count": null,
   "metadata": {},
   "outputs": [],
   "source": [
    "import little_mallet_wrapper\n",
    "import seaborn\n",
    "import glob\n",
    "from pathlib import Path"
   ]
  },
  {
   "attachments": {},
   "cell_type": "markdown",
   "metadata": {},
   "source": [
    "#### Establishing Files"
   ]
  },
  {
   "cell_type": "code",
   "execution_count": null,
   "metadata": {},
   "outputs": [],
   "source": [
    "texts_directory = 'inauguration_speeches'\n",
    "files = glob.glob(f\"{texts_directory}/*.txt\")\n",
    "files"
   ]
  },
  {
   "attachments": {},
   "cell_type": "markdown",
   "metadata": {},
   "source": [
    "#### Setting Training Data"
   ]
  },
  {
   "cell_type": "code",
   "execution_count": 87,
   "metadata": {},
   "outputs": [],
   "source": [
    "training_data = []\n",
    "for file in files:\n",
    "    text = open(file, encoding='utf-8').read()\n",
    "    processed_text = little_mallet_wrapper.process_string(text, numbers='remove')\n",
    "    training_data.append(processed_text)"
   ]
  },
  {
   "attachments": {},
   "cell_type": "markdown",
   "metadata": {},
   "source": [
    "#### Keeping Original Texts"
   ]
  },
  {
   "cell_type": "code",
   "execution_count": null,
   "metadata": {},
   "outputs": [],
   "source": [
    "original_texts = []\n",
    "for file in files:\n",
    "    text = open(file, encoding='utf-8').read()\n",
    "    original_texts.append(text)"
   ]
  },
  {
   "attachments": {},
   "cell_type": "markdown",
   "metadata": {},
   "source": [
    "#### Getting Speech Titles"
   ]
  },
  {
   "cell_type": "code",
   "execution_count": 88,
   "metadata": {},
   "outputs": [
    {
     "data": {
      "text/plain": [
       "['1961Kennedy',\n",
       " '1857Buchanan',\n",
       " '1805Jefferson',\n",
       " '2005GW_Bush',\n",
       " '1965L_Johnson',\n",
       " '1917Wilson',\n",
       " '1885Cleveland',\n",
       " '1881Garfield',\n",
       " '2013Obama',\n",
       " '1889B_Harrison',\n",
       " '1813Madison',\n",
       " '1833Jackson',\n",
       " '1973Nixon',\n",
       " '1793Washington',\n",
       " '1981Reagan',\n",
       " '2021Biden',\n",
       " '1977Carter',\n",
       " '1877Hayes',\n",
       " '1989Bush',\n",
       " '1841WH_Harrison',\n",
       " '1905T_Roosevelt',\n",
       " '1817Monroe',\n",
       " '1969Nixon',\n",
       " '1901McKinley',\n",
       " '1865Lincoln',\n",
       " '1789Washington',\n",
       " '2009Obama',\n",
       " '1993Clinton',\n",
       " '1897McKinley',\n",
       " '2017Trump',\n",
       " '1825Quincy_Adams',\n",
       " '1913Wilson',\n",
       " '2001GW_Bush',\n",
       " '1837Van_Buren',\n",
       " '1925Coolidge',\n",
       " '1849Taylor',\n",
       " '1821Monroe',\n",
       " '1937F_Roosevelt',\n",
       " '1921Harding',\n",
       " '1853Pierce',\n",
       " '1869Grant',\n",
       " '1909Taft',\n",
       " '1953Eisenhower',\n",
       " '1941F_Roosevelt',\n",
       " '1957Eisenhower',\n",
       " '1801Jefferson',\n",
       " '1845Polk',\n",
       " '1949Truman',\n",
       " '1929Hoover',\n",
       " '1893Cleveland',\n",
       " '1985Reagan',\n",
       " '1809Madison',\n",
       " '1797Adams',\n",
       " '1829Jackson',\n",
       " '1997Clinton',\n",
       " '1945F_Roosevelt',\n",
       " '1873Grant',\n",
       " '1933F_Roosevelt',\n",
       " '1861Lincoln']"
      ]
     },
     "execution_count": 88,
     "metadata": {},
     "output_type": "execute_result"
    }
   ],
   "source": [
    "speech_titles = [Path(file).stem for file in files]\n",
    "speech_titles\n",
    "\n",
    "# this is a random order? (unsure why) Check the text editor list for doing topic distributions, but it starts at 0!"
   ]
  },
  {
   "cell_type": "code",
   "execution_count": null,
   "metadata": {},
   "outputs": [],
   "source": [
    "little_mallet_wrapper.print_dataset_stats(training_data)"
   ]
  },
  {
   "cell_type": "code",
   "execution_count": null,
   "metadata": {},
   "outputs": [],
   "source": [
    "num_topics = 12"
   ]
  },
  {
   "cell_type": "code",
   "execution_count": null,
   "metadata": {},
   "outputs": [],
   "source": [
    "training_data = training_data"
   ]
  },
  {
   "cell_type": "code",
   "execution_count": null,
   "metadata": {},
   "outputs": [],
   "source": [
    "#Change to your desired output directory\n",
    "output_directory_path = 'output_data'\n",
    "\n",
    "#No need to change anything below here\n",
    "Path(f\"{output_directory_path}\").mkdir(parents=True, exist_ok=True)\n",
    "\n",
    "path_to_training_data           = f\"{output_directory_path}/training.txt\"\n",
    "path_to_formatted_training_data = f\"{output_directory_path}/mallet.training\"\n",
    "path_to_model                   = f\"{output_directory_path}/mallet.model.{str(num_topics)}\"\n",
    "path_to_topic_keys              = f\"{output_directory_path}/mallet.topic_keys.{str(num_topics)}\"\n",
    "path_to_topic_distributions     = f\"{output_directory_path}/mallet.topic_distributions.{str(num_topics)}\""
   ]
  },
  {
   "cell_type": "code",
   "execution_count": null,
   "metadata": {},
   "outputs": [],
   "source": [
    "little_mallet_wrapper.quick_train_topic_model(path_to_mallet, output_directory_path, num_topics, training_data)"
   ]
  },
  {
   "cell_type": "code",
   "execution_count": null,
   "metadata": {},
   "outputs": [],
   "source": [
    "topics = little_mallet_wrapper.load_topic_keys(path_to_topic_keys)\n",
    "\n",
    "for topic_number, topic in enumerate(topics):\n",
    "    print(f\"✨Topic {topic_number}✨\\n\\n{topic}\\n\")"
   ]
  },
  {
   "cell_type": "code",
   "execution_count": 82,
   "metadata": {},
   "outputs": [],
   "source": [
    "topic_distributions = little_mallet_wrapper.load_topic_distributions(path_to_topic_distributions)\n"
   ]
  },
  {
   "cell_type": "code",
   "execution_count": 84,
   "metadata": {},
   "outputs": [
    {
     "name": "stdout",
     "output_type": "stream",
     "text": [
      "Topic Distributions for 2017Trump\n",
      "\n",
      "✨Topic 0 ['law', 'business', 'must', 'american', 'labor', 'tariff'] ✨\n",
      "Probability: 0.023\n",
      "\n",
      "✨Topic 1 ['confidence', 'nations', 'happiness', 'gratitude', 'press', 'sentiments'] ✨\n",
      "Probability: 0.0\n",
      "\n",
      "✨Topic 2 ['jobs', 'back', 'going', 'heroes', 'tax', 'women'] ✨\n",
      "Probability: 0.202\n",
      "\n",
      "✨Topic 3 ['power', 'one', 'constitution', 'would', 'might', 'spirit'] ✨\n",
      "Probability: 0.0\n",
      "\n",
      "✨Topic 4 ['union', 'would', 'duties', 'war', 'fellow', 'limits'] ✨\n",
      "Probability: 0.0\n",
      "\n",
      "✨Topic 5 ['great', 'nation', 'must', 'shall', 'free', 'peace'] ✨\n",
      "Probability: 0.246\n",
      "\n",
      "✨Topic 6 ['know', 'life', 'things', 'democracy', 'man', 'change'] ✨\n",
      "Probability: 0.026\n",
      "\n",
      "✨Topic 7 ['civilization', 'order', 'problems', 'task', 'counsel', 'republic'] ✨\n",
      "Probability: 0.0\n",
      "\n",
      "✨Topic 8 ['government', 'people', 'states', 'country', 'public', 'upon'] ✨\n",
      "Probability: 0.028\n",
      "\n",
      "✨Topic 9 ['union', 'constitution', 'opinion', 'upon', 'slavery', 'authority'] ✨\n",
      "Probability: 0.0\n",
      "\n",
      "✨Topic 10 ['america', 'world', 'people', 'new', 'let', 'today'] ✨\n",
      "Probability: 0.474\n",
      "\n",
      "✨Topic 11 ['world', 'peace', 'nations', 'freedom', 'economic', 'peoples'] ✨\n",
      "Probability: 0.0\n",
      "\n"
     ]
    },
    {
     "data": {
      "text/plain": [
       "29"
      ]
     },
     "execution_count": 84,
     "metadata": {},
     "output_type": "execute_result"
    }
   ],
   "source": [
    "speech_to_check = \"2017Trump\"\n",
    "\n",
    "speech_number = speech_titles.index(speech_to_check)\n",
    "\n",
    "print(f\"Topic Distributions for {speech_titles[speech_number]}\\n\")\n",
    "for topic_number, (topic, topic_distribution) in enumerate(zip(topics, topic_distributions[speech_number])):\n",
    "    print(f\"✨Topic {topic_number} {topic[:6]} ✨\\nProbability: {round(topic_distribution, 3)}\\n\")\n",
    "\n",
    "speech_number"
   ]
  },
  {
   "cell_type": "code",
   "execution_count": 90,
   "metadata": {},
   "outputs": [
    {
     "data": {
      "text/plain": [
       "[0.051358929854168026,\n",
       " 0.003205758608039765,\n",
       " 4.7557105658577006e-05,\n",
       " 0.04826014016002757,\n",
       " 0.023616827861104448,\n",
       " 0.260956934967566,\n",
       " 0.0021188228598594404,\n",
       " 9.327513762416246e-05,\n",
       " 0.24688264926899392,\n",
       " 0.3555560033815954,\n",
       " 0.007721802837726113,\n",
       " 0.0001812979576365834]"
      ]
     },
     "execution_count": 90,
     "metadata": {},
     "output_type": "execute_result"
    }
   ],
   "source": [
    "topic_distributions[58]"
   ]
  },
  {
   "cell_type": "code",
   "execution_count": null,
   "metadata": {},
   "outputs": [],
   "source": []
  }
 ],
 "metadata": {
  "kernelspec": {
   "display_name": "programming-pedagogies-venv",
   "language": "python",
   "name": "python3"
  },
  "language_info": {
   "codemirror_mode": {
    "name": "ipython",
    "version": 3
   },
   "file_extension": ".py",
   "mimetype": "text/x-python",
   "name": "python",
   "nbconvert_exporter": "python",
   "pygments_lexer": "ipython3",
   "version": "3.10.8"
  },
  "orig_nbformat": 4
 },
 "nbformat": 4,
 "nbformat_minor": 2
}
