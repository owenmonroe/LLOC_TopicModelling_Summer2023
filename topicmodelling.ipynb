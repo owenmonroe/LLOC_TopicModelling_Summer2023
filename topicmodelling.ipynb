{
 "cells": [
  {
   "cell_type": "code",
   "execution_count": 86,
   "metadata": {},
   "outputs": [],
   "source": [
    "import pandas as pd\n",
    "import nltk\n",
    "from nltk.corpus import stopwords\n",
    "from nltk import word_tokenize, sent_tokenize\n",
    "from sklearn.feature_extraction.text import TfidfVectorizer, CountVectorizer\n",
    "# import gensim\n",
    "from bertopic import BERTopic\n",
    "import altair as alt"
   ]
  },
  {
   "cell_type": "code",
   "execution_count": 87,
   "metadata": {},
   "outputs": [
    {
     "data": {
      "text/plain": [
       "0     Fellow-Citizens of the Senate and of the House...\n",
       "1     Fellow Citizens: I AM again called upon by the...\n",
       "2     WHEN it was first perceived, in early times, t...\n",
       "3     Friends and Fellow-Citizens: CALLED upon to un...\n",
       "4     PROCEEDING, fellow-citizens, to that qualifica...\n",
       "                            ...                        \n",
       "63    Vice President Cheney, Mr. Chief Justice, Pres...\n",
       "64    My fellow citizens, I stand here today humbled...\n",
       "65    Thank you. Thank you so much. Vice President B...\n",
       "66    Chief Justice Roberts, President Carter, Presi...\n",
       "67    Chief Justice Roberts, Vice President Harris, ...\n",
       "Name: Text, Length: 68, dtype: object"
      ]
     },
     "execution_count": 87,
     "metadata": {},
     "output_type": "execute_result"
    }
   ],
   "source": [
    "speeches_df = pd.read_table(\"inauguration_data.txt\", sep='\\t')\n",
    "speech_text_df = speeches_df[\"Text\"]\n",
    "clean_text_df = speech_text_df.fillna('')\n",
    "clean_str_df = clean_text_df.astype(str)\n",
    "clean_str_df"
   ]
  },
  {
   "cell_type": "code",
   "execution_count": 88,
   "metadata": {},
   "outputs": [],
   "source": [
    "topic_model = BERTopic()"
   ]
  },
  {
   "cell_type": "code",
   "execution_count": 89,
   "metadata": {},
   "outputs": [],
   "source": [
    "topics, probs = topic_model.fit_transform(clean_str_df)"
   ]
  },
  {
   "cell_type": "code",
   "execution_count": 92,
   "metadata": {},
   "outputs": [
    {
     "data": {
      "text/html": [
       "<div>\n",
       "<style scoped>\n",
       "    .dataframe tbody tr th:only-of-type {\n",
       "        vertical-align: middle;\n",
       "    }\n",
       "\n",
       "    .dataframe tbody tr th {\n",
       "        vertical-align: top;\n",
       "    }\n",
       "\n",
       "    .dataframe thead th {\n",
       "        text-align: right;\n",
       "    }\n",
       "</style>\n",
       "<table border=\"1\" class=\"dataframe\">\n",
       "  <thead>\n",
       "    <tr style=\"text-align: right;\">\n",
       "      <th></th>\n",
       "      <th>Topic</th>\n",
       "      <th>Count</th>\n",
       "      <th>Name</th>\n",
       "      <th>Representation</th>\n",
       "      <th>Representative_Docs</th>\n",
       "    </tr>\n",
       "  </thead>\n",
       "  <tbody>\n",
       "    <tr>\n",
       "      <th>0</th>\n",
       "      <td>-1</td>\n",
       "      <td>29</td>\n",
       "      <td>-1_the_of_and_to</td>\n",
       "      <td>[the, of, and, to, in, our, we, is, it, that]</td>\n",
       "      <td>[Fellow-Citizens: We stand to-day upon an emin...</td>\n",
       "    </tr>\n",
       "    <tr>\n",
       "      <th>1</th>\n",
       "      <td>0</td>\n",
       "      <td>24</td>\n",
       "      <td>0_the_of_to_and</td>\n",
       "      <td>[the, of, to, and, in, be, that, which, our, it]</td>\n",
       "      <td>[My Fellow-Citizens: Anyone who has taken the ...</td>\n",
       "    </tr>\n",
       "    <tr>\n",
       "      <th>2</th>\n",
       "      <td>1</td>\n",
       "      <td>15</td>\n",
       "      <td>1_the_and_we_of</td>\n",
       "      <td>[the, and, we, of, our, to, in, that, is, for]</td>\n",
       "      <td>[Senator Mathias, Chief Justice Burger, Vice P...</td>\n",
       "    </tr>\n",
       "  </tbody>\n",
       "</table>\n",
       "</div>"
      ],
      "text/plain": [
       "   Topic  Count              Name  \\\n",
       "0     -1     29  -1_the_of_and_to   \n",
       "1      0     24   0_the_of_to_and   \n",
       "2      1     15   1_the_and_we_of   \n",
       "\n",
       "                                     Representation  \\\n",
       "0     [the, of, and, to, in, our, we, is, it, that]   \n",
       "1  [the, of, to, and, in, be, that, which, our, it]   \n",
       "2    [the, and, we, of, our, to, in, that, is, for]   \n",
       "\n",
       "                                 Representative_Docs  \n",
       "0  [Fellow-Citizens: We stand to-day upon an emin...  \n",
       "1  [My Fellow-Citizens: Anyone who has taken the ...  \n",
       "2  [Senator Mathias, Chief Justice Burger, Vice P...  "
      ]
     },
     "execution_count": 92,
     "metadata": {},
     "output_type": "execute_result"
    }
   ],
   "source": [
    "clean_str_df['Topic'] = topics\n",
    "topics = topic_model.get_topics()\n",
    "topic_model.get_topic_info()"
   ]
  },
  {
   "cell_type": "code",
   "execution_count": 100,
   "metadata": {},
   "outputs": [
    {
     "name": "stdout",
     "output_type": "stream",
     "text": [
      "-1, [('the', 0.12937762392334073), ('of', 0.10510008805545094), ('and', 0.09077338416394228), ('to', 0.07559146335661827), ('in', 0.058498855685936796), ('our', 0.04985914546734379), ('we', 0.04590049655070054), ('is', 0.04071976136100529), ('it', 0.04057255672562039), ('that', 0.039199298928972615)]\n",
      "0, [('the', 0.14181234081370359), ('of', 0.11700378148307064), ('to', 0.08946376798235517), ('and', 0.08721785088284634), ('in', 0.06177045336000707), ('be', 0.04501477903049565), ('that', 0.04288681990302363), ('which', 0.0415095059010771), ('our', 0.04065769315497182), ('it', 0.03917678927212137)]\n",
      "1, [('the', 0.09376419687309838), ('and', 0.09289386956929734), ('we', 0.0894483852090258), ('of', 0.08041010913122947), ('our', 0.07223335979691389), ('to', 0.07049039421215726), ('in', 0.05593332096657802), ('that', 0.05064480028033966), ('is', 0.045516040083270114), ('for', 0.042983695367335095)]\n"
     ]
    }
   ],
   "source": [
    "for topic_id, topic_words in topics.items():\n",
    "    print(f'{topic_id}, {topic_words}')"
   ]
  },
  {
   "cell_type": "code",
   "execution_count": 97,
   "metadata": {},
   "outputs": [
    {
     "ename": "SyntaxError",
     "evalue": "unterminated string literal (detected at line 2) (4093778161.py, line 2)",
     "output_type": "error",
     "traceback": [
      "\u001b[0;36m  Cell \u001b[0;32mIn [97], line 2\u001b[0;36m\u001b[0m\n\u001b[0;31m    print(f\"Topic: {topic_id}: {', '.join(topic_words)})\u001b[0m\n\u001b[0m          ^\u001b[0m\n\u001b[0;31mSyntaxError\u001b[0m\u001b[0;31m:\u001b[0m unterminated string literal (detected at line 2)\n"
     ]
    }
   ],
   "source": [
    "for topic_id, topic_words in topics.items():\n",
    "    print(f\"Topic: {topic_id}: {', '.join(topic_words)})"
   ]
  },
  {
   "cell_type": "code",
   "execution_count": null,
   "metadata": {},
   "outputs": [],
   "source": []
  }
 ],
 "metadata": {
  "kernelspec": {
   "display_name": "Python 3",
   "language": "python",
   "name": "python3"
  },
  "language_info": {
   "codemirror_mode": {
    "name": "ipython",
    "version": 3
   },
   "file_extension": ".py",
   "mimetype": "text/x-python",
   "name": "python",
   "nbconvert_exporter": "python",
   "pygments_lexer": "ipython3",
   "version": "3.10.8"
  },
  "orig_nbformat": 4
 },
 "nbformat": 4,
 "nbformat_minor": 2
}
